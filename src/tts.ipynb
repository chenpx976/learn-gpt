{
 "cells": [
  {
   "cell_type": "code",
   "execution_count": null,
   "metadata": {},
   "outputs": [],
   "source": [
    "# https://chat.openai.com/share/b551701e-8224-459d-af6d-7b50712e7013"
   ]
  },
  {
   "cell_type": "code",
   "execution_count": 2,
   "metadata": {},
   "outputs": [],
   "source": [
    "import json\n",
    "import subprocess\n",
    "import os\n",
    "\n",
    "def get_playlist_title(playlist_url: str) -> str:\n",
    "    # Shell command to download video info and write to JSON\n",
    "    command = [\n",
    "        'yt-dlp',\n",
    "        '-j',  # Output JSON\n",
    "        '--flat-playlist',  # Don't download the videos\n",
    "        '--playlist-items',  '1',  # Only get the first video's info\n",
    "        playlist_url\n",
    "    ]\n",
    "    result = subprocess.run(command, stdout=subprocess.PIPE, text=True)\n",
    "    data = json.loads(result.stdout)\n",
    "    print(data)\n",
    "    # return data;\n",
    "    return data['playlist_title']\n",
    "\n",
    "\n",
    "def download_subtitles(playlist_url: str):\n",
    "    # Get the playlist title\n",
    "    playlist_title = get_playlist_title(playlist_url)\n",
    "\n",
    "    if playlist_title is None:\n",
    "        print(f\"Cannot get the title of playlist: {playlist_url}\")\n",
    "        return\n",
    "\n",
    "    # Define the path for saving subtitles based on the playlist title\n",
    "    save_path = os.path.join('../youtube', playlist_title, 'subtitle')\n",
    "\n",
    "    # Shell command to download subtitles\n",
    "    command = [\n",
    "        'yt-dlp',\n",
    "        '--write-sub',\n",
    "        '--skip-download',\n",
    "        '--sub-lang',\n",
    "        'zh-Hans,zh',\n",
    "        '--sub-format',\n",
    "        'vtt',\n",
    "        '-P',\n",
    "        save_path,\n",
    "        playlist_url\n",
    "    ]\n",
    "\n",
    "    # Execute the command\n",
    "    subprocess.run(command, check=True)\n",
    "\n"
   ]
  },
  {
   "cell_type": "code",
   "execution_count": 3,
   "metadata": {},
   "outputs": [
    {
     "ename": "ModuleNotFoundError",
     "evalue": "No module named 'webvtt'",
     "output_type": "error",
     "traceback": [
      "\u001b[0;31m---------------------------------------------------------------------------\u001b[0m",
      "\u001b[0;31mModuleNotFoundError\u001b[0m                       Traceback (most recent call last)",
      "Cell \u001b[0;32mIn[3], line 1\u001b[0m\n\u001b[0;32m----> 1\u001b[0m \u001b[39mimport\u001b[39;00m \u001b[39mwebvtt\u001b[39;00m\n\u001b[1;32m      2\u001b[0m \u001b[39mimport\u001b[39;00m \u001b[39medge_tts\u001b[39;00m\n\u001b[1;32m      3\u001b[0m \u001b[39mimport\u001b[39;00m \u001b[39mos\u001b[39;00m\n",
      "\u001b[0;31mModuleNotFoundError\u001b[0m: No module named 'webvtt'"
     ]
    }
   ],
   "source": [
    "import webvtt\n",
    "import edge_tts\n",
    "import os\n",
    "import asyncio\n",
    "import nest_asyncio\n",
    "\n",
    "nest_asyncio.apply()\n",
    "\n",
    "\n",
    "def read_subtitles_from_vtt_file(file_path: str) -> str:\n",
    "    \"\"\"从.vtt文件读取字幕内容\"\"\"\n",
    "    if not os.path.exists(file_path):\n",
    "        print(f\"The file {file_path} does not exist.\")\n",
    "        return \"\"\n",
    "\n",
    "    # 从.vtt文件中读取字幕\n",
    "    captions = webvtt.read(file_path)\n",
    "\n",
    "    # 将所有字幕组合成一个字符串，每个字幕之间用空格分隔\n",
    "    return '\\n'.join(caption.text for caption in captions)\n",
    "\n",
    "\n",
    "async def text_to_speech(text_file: str, audio_file: str, voice: str = \"zh-CN-XiaoxiaoNeural\"):\n",
    "    \"\"\"Main function\"\"\"\n",
    "    text = read_subtitles_from_vtt_file(text_file)\n",
    "    if text:\n",
    "        communicate = edge_tts.Communicate(text, voice, rate='+75%')\n",
    "        await communicate.save(audio_file)\n",
    "\n",
    "\n",
    "def process_all_files(folder_name: str):\n",
    "    # Create the directories for the subtitles and the output audio files\n",
    "    subtitle_dir = os.path.join('../youtube', folder_name, 'subtitle')\n",
    "    output_dir = os.path.join('../youtube', folder_name, 'mp3')\n",
    "\n",
    "    # Check if the directories exist, if not, create them\n",
    "    os.makedirs(subtitle_dir, exist_ok=True)\n",
    "    os.makedirs(output_dir, exist_ok=True)\n",
    "\n",
    "    # Iterate over all .vtt files in the subtitle directory\n",
    "    for file_name in os.listdir(subtitle_dir):\n",
    "        if file_name.endswith('.vtt'):\n",
    "            # Remove the .vtt extension\n",
    "            base_name = os.path.splitext(file_name)[0]\n",
    "            text_file = os.path.join(subtitle_dir, file_name)\n",
    "            audio_file = os.path.join(output_dir, base_name + '.mp3')\n",
    "            asyncio.run(text_to_speech(text_file, audio_file))\n",
    "\n"
   ]
  },
  {
   "cell_type": "code",
   "execution_count": null,
   "metadata": {},
   "outputs": [],
   "source": [
    "# 执行\n",
    "\n",
    "# Specify the URL of the YouTube playlist\n",
    "PLAYLIST_URL = 'https://www.youtube.com/watch?v=1SZOGp1D17E&list=PLiuLMb-dLdWKjX8ib9PhlCIx1jKMNxMpy'\n",
    "download_subtitles(PLAYLIST_URL)"
   ]
  },
  {
   "cell_type": "code",
   "execution_count": 53,
   "metadata": {},
   "outputs": [],
   "source": [
    "\n",
    "# Specify the folder under 'YouTube' for the subtitles and the output audio files\n",
    "FOLDER_NAME = '基于LangChain的大语言模型应用开发'  # replace this with your folder name\n",
    "\n",
    "# Process all files\n",
    "process_all_files(FOLDER_NAME)"
   ]
  }
 ],
 "metadata": {
  "kernelspec": {
   "display_name": "geektime",
   "language": "python",
   "name": "python3"
  },
  "language_info": {
   "codemirror_mode": {
    "name": "ipython",
    "version": 3
   },
   "file_extension": ".py",
   "mimetype": "text/x-python",
   "name": "python",
   "nbconvert_exporter": "python",
   "pygments_lexer": "ipython3",
   "version": "3.11.3"
  },
  "orig_nbformat": 4
 },
 "nbformat": 4,
 "nbformat_minor": 2
}
