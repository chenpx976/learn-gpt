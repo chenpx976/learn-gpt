{
 "cells": [
  {
   "cell_type": "code",
   "execution_count": 1,
   "metadata": {},
   "outputs": [
    {
     "name": "stdout",
     "output_type": "stream",
     "text": [
      "Note: you may need to restart the kernel to use updated packages.\n"
     ]
    }
   ],
   "source": [
    "%pip install plugnplai -q"
   ]
  },
  {
   "cell_type": "code",
   "execution_count": 2,
   "metadata": {},
   "outputs": [],
   "source": [
    "import plugnplai as pl\n",
    "from langchain.chat_models import ChatOpenAI\n",
    "from langchain.prompts.chat import ChatPromptTemplate, SystemMessagePromptTemplate, AIMessagePromptTemplate, HumanMessagePromptTemplate\n",
    "from langchain.schema import AIMessage, HumanMessage, SystemMessage\n",
    "from IPython.display import display, Markdown"
   ]
  },
  {
   "cell_type": "code",
   "execution_count": 3,
   "metadata": {},
   "outputs": [
    {
     "name": "stdout",
     "output_type": "stream",
     "text": [
      "Our chosen Plugins: ['https://showme.redstarplugin.com']\n"
     ]
    }
   ],
   "source": [
    "# Get working plugins - only tested plugins (in progress)\n",
    "urlsTravel = pl.get_plugins()\n",
    "\n",
    "# Lets pick Trip, Klarna and Speak\n",
    "urls = [plugin for plugin in urlsTravel if any(word in plugin for word in ('Diagram It', 'showme'))]\n",
    "\n",
    "print(f'Our chosen Plugins: {urls}')"
   ]
  },
  {
   "cell_type": "code",
   "execution_count": 4,
   "metadata": {},
   "outputs": [],
   "source": [
    "from plugnplai import Plugins\n",
    "\n",
    "plugins = Plugins.install_and_activate(urls)\n",
    "chat = ChatOpenAI(temperature=0, model=\"gpt-3.5-turbo\")\n",
    "\n",
    "@plugins.apply_plugins\n",
    "def call_llm(user_message):\n",
    "  messages = [\n",
    "    SystemMessage(content=\"\"),\n",
    "    HumanMessage(content=user_message)\n",
    "  ]\n",
    "\n",
    "  res = chat(messages)\n",
    "\n",
    "  llm_first_response = res.content\n",
    "\n",
    "  return llm_first_response"
   ]
  },
  {
   "cell_type": "code",
   "execution_count": 7,
   "metadata": {},
   "outputs": [
    {
     "name": "stdout",
     "output_type": "stream",
     "text": [
      "Using show_me_diagrams\n"
     ]
    },
    {
     "data": {
      "text/plain": [
       "'Here is a diagram of the React lifecycle using Mermaid syntax:\\n\\n```mermaid\\nsequenceDiagram\\n    participant User\\n    participant ReactDOM\\n    participant Component\\n    User->>ReactDOM: Render\\n    ReactDOM->>Component: Constructor\\n    Component->>Component: getDerivedStateFromProps\\n    Component->>Component: shouldComponentUpdate\\n    Component->>Component: render\\n    Component->>Component: getSnapshotBeforeUpdate\\n    ReactDOM->>Component: componentDidMount\\n    User->>ReactDOM: Update\\n    ReactDOM->>Component: getDerivedStateFromProps\\n    Component->>Component: shouldComponentUpdate\\n    Component->>Component: render\\n    Component->>Component: getSnapshotBeforeUpdate\\n    ReactDOM->>Component: componentDidUpdate\\n    User->>ReactDOM: Unmount\\n    ReactDOM->>Component: componentWillUnmount\\n```\\n\\nThis diagram shows the sequence of events that occur during the lifecycle of a React component, including the constructor, rendering, and updating phases.'"
      ]
     },
     "execution_count": 7,
     "metadata": {},
     "output_type": "execute_result"
    }
   ],
   "source": [
    "\n",
    "response = call_llm(\"绘制 React 的生命周期\")\n",
    "response"
   ]
  }
 ],
 "metadata": {
  "kernelspec": {
   "display_name": "base",
   "language": "python",
   "name": "python3"
  },
  "language_info": {
   "codemirror_mode": {
    "name": "ipython",
    "version": 3
   },
   "file_extension": ".py",
   "mimetype": "text/x-python",
   "name": "python",
   "nbconvert_exporter": "python",
   "pygments_lexer": "ipython3",
   "version": "3.11.3"
  },
  "orig_nbformat": 4
 },
 "nbformat": 4,
 "nbformat_minor": 2
}
